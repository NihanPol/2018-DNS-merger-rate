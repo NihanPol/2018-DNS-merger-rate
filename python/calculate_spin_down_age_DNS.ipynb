{
 "cells": [
  {
   "cell_type": "markdown",
   "metadata": {},
   "source": [
    "# This notebook calculates the effective spin-down age for DNS systems using the technique developed in \"PULSAR SPIN EVOLUTION, KINEMATICS, AND THE BIRTHRATE OF NEUTRON STAR BINARIES\", Arzoumanian et al."
   ]
  },
  {
   "cell_type": "code",
   "execution_count": 1,
   "metadata": {
    "collapsed": true
   },
   "outputs": [],
   "source": [
    "from __future__ import division\n",
    "import numpy as np, scipy\n",
    "import matplotlib.pyplot as pl\n",
    "%matplotlib notebook"
   ]
  },
  {
   "cell_type": "markdown",
   "metadata": {},
   "source": [
    "- This work assumes that the post-accretion phase \"birth\" spindown rate is the same as that measured now. We also assume $n = 3$. We also adopt the fiducial value of $\\alpha = 1.6 \\times 10^{-15}$ calculated in the above paper"
   ]
  },
  {
   "cell_type": "markdown",
   "metadata": {},
   "source": [
    "- Create a repo with the $P$ and $\\dot{P}$ values for all 8 DNS systems\n",
    "    - Ordering for pulsars is: 1913+16, 1534, 1757, 1946, 1913+1102, 0737A, 1756$-$2251, 1906+0746"
   ]
  },
  {
   "cell_type": "code",
   "execution_count": 2,
   "metadata": {
    "collapsed": true
   },
   "outputs": [],
   "source": [
    "alpha = 1.6e-15\n",
    "P = np.array([0.059030003217813, 0.03790444117830463, 0.021497231890027, 0.01696017532,\n",
    "              0.027285006852515,\n",
    "              0.0226993785996239, 0.0284615890259983, 0.14407315538]) #in seconds, taken from psrcat\n",
    "P_dot = np.array([8.6183E-18, 2.422494E-18, 2.6303E-18, 9e-19, \n",
    "                  1.61E-19, 1.75993E-18, 1.017502E-18, 2.02678E-14])\n"
   ]
  },
  {
   "cell_type": "markdown",
   "metadata": {},
   "source": [
    "- Calculate the characteristic lifetime:\n",
    "$$ \\tau_c = \\frac{P}{2 \\, \\dot{P}} $$\n",
    "(for $n = 3$)"
   ]
  },
  {
   "cell_type": "code",
   "execution_count": 3,
   "metadata": {
    "collapsed": true
   },
   "outputs": [],
   "source": [
    "tau_c = P / (2 * P_dot)"
   ]
  },
  {
   "cell_type": "markdown",
   "metadata": {},
   "source": [
    "- Finally calculate effective lifetime, $\\tau_{\\rm eff}$, using ($n = 3$)\n",
    "$$ \\tau_{\\rm eff} = \\tau_c \\, \\left[ 1 - \\left(\\frac{\\dot{P}}{\\alpha}\\right)^{6/7} \\frac{1}{P^{8/7}} \\right] $$"
   ]
  },
  {
   "cell_type": "code",
   "execution_count": 4,
   "metadata": {
    "collapsed": true
   },
   "outputs": [],
   "source": [
    "tau_eff = tau_c * (1 - P_dot ** (6./7) / (alpha ** (6./7) * P ** (8./7)))"
   ]
  },
  {
   "cell_type": "markdown",
   "metadata": {},
   "source": [
    "- Convert the above lifetime to units of Myr"
   ]
  },
  {
   "cell_type": "code",
   "execution_count": 5,
   "metadata": {},
   "outputs": [
    {
     "name": "stdout",
     "output_type": "stream",
     "text": [
      "[   77.2846677    208.09193008    86.72543868   247.10840476  2625.22833486\n",
      "   159.45872137   396.33951505    -8.98054673]\n"
     ]
    }
   ],
   "source": [
    "print(tau_eff / (60 * 60 * 24 * 365 * 1e6))"
   ]
  },
  {
   "cell_type": "markdown",
   "metadata": {},
   "source": [
    "- Print the characteristic ages for reference"
   ]
  },
  {
   "cell_type": "code",
   "execution_count": 6,
   "metadata": {},
   "outputs": [
    {
     "name": "stdout",
     "output_type": "stream",
     "text": [
      "[  1.08596192e+02   2.48079447e+02   1.29580799e+02   2.98779795e+02\n",
      "   2.68696240e+03   2.04494660e+02   4.43493510e+02   1.12704136e-01]\n"
     ]
    }
   ],
   "source": [
    "print(tau_c / (60 * 60 * 24 * 365 * 1e6))"
   ]
  },
  {
   "cell_type": "code",
   "execution_count": null,
   "metadata": {
    "collapsed": true
   },
   "outputs": [],
   "source": []
  }
 ],
 "metadata": {
  "kernelspec": {
   "display_name": "Python 2",
   "language": "python",
   "name": "python2"
  },
  "language_info": {
   "codemirror_mode": {
    "name": "ipython",
    "version": 2
   },
   "file_extension": ".py",
   "mimetype": "text/x-python",
   "name": "python",
   "nbconvert_exporter": "python",
   "pygments_lexer": "ipython2",
   "version": "2.7.13"
  }
 },
 "nbformat": 4,
 "nbformat_minor": 2
}
