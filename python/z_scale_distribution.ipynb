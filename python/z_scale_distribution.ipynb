{
 "cells": [
  {
   "cell_type": "markdown",
   "metadata": {},
   "source": [
    "# Script to deteremine the vertical scale height for DNS systems"
   ]
  },
  {
   "cell_type": "markdown",
   "metadata": {},
   "source": [
    "This script performs the analysis described in Sec. 2.3 of the paper."
   ]
  },
  {
   "cell_type": "code",
   "execution_count": 2,
   "metadata": {},
   "outputs": [],
   "source": [
    "import numpy as np, scipy\n",
    "import matplotlib.pyplot as pl\n",
    "import pandas as pd\n",
    "import plot_conf_int\n",
    "\n",
    "#%pylab\n",
    "%matplotlib inline"
   ]
  },
  {
   "cell_type": "markdown",
   "metadata": {},
   "source": [
    "### Read in data about ALL known DNS systems."
   ]
  },
  {
   "cell_type": "markdown",
   "metadata": {},
   "source": [
    "The table \"all_dns.txt\" was generated using the [ATNF Pulsar catalog](http://www.atnf.csiro.au/research/pulsar/psrcat/)"
   ]
  },
  {
   "cell_type": "code",
   "execution_count": 12,
   "metadata": {
    "collapsed": true
   },
   "outputs": [],
   "source": [
    "#Read in the table\n",
    "data = pd.read_csv(\"all_dns.txt\", sep = ',', index_col = 'NAME', comment = '#')"
   ]
  },
  {
   "cell_type": "code",
   "execution_count": 13,
   "metadata": {},
   "outputs": [
    {
     "data": {
      "text/html": [
       "<div>\n",
       "<style>\n",
       "    .dataframe thead tr:only-child th {\n",
       "        text-align: right;\n",
       "    }\n",
       "\n",
       "    .dataframe thead th {\n",
       "        text-align: left;\n",
       "    }\n",
       "\n",
       "    .dataframe tbody tr th {\n",
       "        vertical-align: top;\n",
       "    }\n",
       "</style>\n",
       "<table border=\"1\" class=\"dataframe\">\n",
       "  <thead>\n",
       "    <tr style=\"text-align: right;\">\n",
       "      <th></th>\n",
       "      <th>Survey</th>\n",
       "      <th>Gl</th>\n",
       "      <th>Gb</th>\n",
       "      <th>P0</th>\n",
       "      <th>P1</th>\n",
       "      <th>DM</th>\n",
       "      <th>PB</th>\n",
       "      <th>A1</th>\n",
       "      <th>ECC</th>\n",
       "      <th>ZZ</th>\n",
       "      <th>merger_time</th>\n",
       "    </tr>\n",
       "    <tr>\n",
       "      <th>NAME</th>\n",
       "      <th></th>\n",
       "      <th></th>\n",
       "      <th></th>\n",
       "      <th></th>\n",
       "      <th></th>\n",
       "      <th></th>\n",
       "      <th></th>\n",
       "      <th></th>\n",
       "      <th></th>\n",
       "      <th></th>\n",
       "      <th></th>\n",
       "    </tr>\n",
       "  </thead>\n",
       "  <tbody>\n",
       "    <tr>\n",
       "      <th>J0453+1559</th>\n",
       "      <td>ar372</td>\n",
       "      <td>184.1</td>\n",
       "      <td>-17.1</td>\n",
       "      <td>0.045782</td>\n",
       "      <td>1.860000e-19</td>\n",
       "      <td>30.0</td>\n",
       "      <td>4.0725</td>\n",
       "      <td>14.47</td>\n",
       "      <td>0.11250</td>\n",
       "      <td>-0.15</td>\n",
       "      <td>1.430000e+12</td>\n",
       "    </tr>\n",
       "    <tr>\n",
       "      <th>J0737-3039A</th>\n",
       "      <td>pkshl, htru_pks</td>\n",
       "      <td>245.2</td>\n",
       "      <td>-4.5</td>\n",
       "      <td>0.022699</td>\n",
       "      <td>1.760000e-18</td>\n",
       "      <td>49.0</td>\n",
       "      <td>0.1023</td>\n",
       "      <td>1.42</td>\n",
       "      <td>0.08778</td>\n",
       "      <td>-0.09</td>\n",
       "      <td>8.500000e+07</td>\n",
       "    </tr>\n",
       "    <tr>\n",
       "      <th>J1411+2551</th>\n",
       "      <td>ar327</td>\n",
       "      <td>33.4</td>\n",
       "      <td>72.1</td>\n",
       "      <td>0.062453</td>\n",
       "      <td>9.560000e-20</td>\n",
       "      <td>12.0</td>\n",
       "      <td>2.6159</td>\n",
       "      <td>9.21</td>\n",
       "      <td>0.16990</td>\n",
       "      <td>1.08</td>\n",
       "      <td>4.600000e+11</td>\n",
       "    </tr>\n",
       "    <tr>\n",
       "      <th>J1518+4904</th>\n",
       "      <td>gb4, gbncc</td>\n",
       "      <td>80.8</td>\n",
       "      <td>54.3</td>\n",
       "      <td>0.040935</td>\n",
       "      <td>2.720000e-20</td>\n",
       "      <td>12.0</td>\n",
       "      <td>8.6340</td>\n",
       "      <td>20.04</td>\n",
       "      <td>0.24950</td>\n",
       "      <td>0.78</td>\n",
       "      <td>2.400000e+12</td>\n",
       "    </tr>\n",
       "    <tr>\n",
       "      <th>B1534+12</th>\n",
       "      <td>ar4, gb4</td>\n",
       "      <td>19.8</td>\n",
       "      <td>48.3</td>\n",
       "      <td>0.037904</td>\n",
       "      <td>2.420000e-18</td>\n",
       "      <td>12.0</td>\n",
       "      <td>0.4207</td>\n",
       "      <td>3.73</td>\n",
       "      <td>0.27370</td>\n",
       "      <td>0.79</td>\n",
       "      <td>2.930000e+09</td>\n",
       "    </tr>\n",
       "    <tr>\n",
       "      <th>J1753-2240</th>\n",
       "      <td>pksmb, htru_pks</td>\n",
       "      <td>6.3</td>\n",
       "      <td>1.7</td>\n",
       "      <td>0.095138</td>\n",
       "      <td>9.700000e-19</td>\n",
       "      <td>159.0</td>\n",
       "      <td>13.6376</td>\n",
       "      <td>18.12</td>\n",
       "      <td>0.30360</td>\n",
       "      <td>0.09</td>\n",
       "      <td>NaN</td>\n",
       "    </tr>\n",
       "    <tr>\n",
       "      <th>J1756-2251</th>\n",
       "      <td>pksmb, htru_pks</td>\n",
       "      <td>6.5</td>\n",
       "      <td>0.9</td>\n",
       "      <td>0.028462</td>\n",
       "      <td>1.020000e-18</td>\n",
       "      <td>121.0</td>\n",
       "      <td>0.3196</td>\n",
       "      <td>2.76</td>\n",
       "      <td>0.18060</td>\n",
       "      <td>0.01</td>\n",
       "      <td>1.690000e+09</td>\n",
       "    </tr>\n",
       "    <tr>\n",
       "      <th>J1811-1736</th>\n",
       "      <td>pksmb, htru_pks</td>\n",
       "      <td>12.8</td>\n",
       "      <td>0.4</td>\n",
       "      <td>0.104182</td>\n",
       "      <td>9.010000e-19</td>\n",
       "      <td>476.0</td>\n",
       "      <td>18.7792</td>\n",
       "      <td>34.78</td>\n",
       "      <td>0.82800</td>\n",
       "      <td>0.03</td>\n",
       "      <td>1.000000e+12</td>\n",
       "    </tr>\n",
       "    <tr>\n",
       "      <th>J1829+2456</th>\n",
       "      <td>ar4</td>\n",
       "      <td>53.3</td>\n",
       "      <td>15.6</td>\n",
       "      <td>0.041010</td>\n",
       "      <td>5.250000e-20</td>\n",
       "      <td>14.0</td>\n",
       "      <td>1.1760</td>\n",
       "      <td>7.24</td>\n",
       "      <td>0.13910</td>\n",
       "      <td>0.24</td>\n",
       "      <td>6.000000e+10</td>\n",
       "    </tr>\n",
       "    <tr>\n",
       "      <th>J1906+0746</th>\n",
       "      <td>palfa</td>\n",
       "      <td>41.6</td>\n",
       "      <td>0.1</td>\n",
       "      <td>0.144073</td>\n",
       "      <td>2.030000e-14</td>\n",
       "      <td>218.0</td>\n",
       "      <td>0.1660</td>\n",
       "      <td>1.42</td>\n",
       "      <td>0.08530</td>\n",
       "      <td>0.02</td>\n",
       "      <td>3.000000e+08</td>\n",
       "    </tr>\n",
       "    <tr>\n",
       "      <th>J1913+1102</th>\n",
       "      <td>palfa</td>\n",
       "      <td>45.2</td>\n",
       "      <td>0.2</td>\n",
       "      <td>0.027285</td>\n",
       "      <td>1.610000e-19</td>\n",
       "      <td>339.0</td>\n",
       "      <td>0.2063</td>\n",
       "      <td>1.75</td>\n",
       "      <td>0.08954</td>\n",
       "      <td>0.02</td>\n",
       "      <td>5.000000e+08</td>\n",
       "    </tr>\n",
       "    <tr>\n",
       "      <th>B1913+16</th>\n",
       "      <td>ar1,ar4,pksmb</td>\n",
       "      <td>50.0</td>\n",
       "      <td>2.1</td>\n",
       "      <td>0.059030</td>\n",
       "      <td>8.620000e-18</td>\n",
       "      <td>169.0</td>\n",
       "      <td>0.3230</td>\n",
       "      <td>2.34</td>\n",
       "      <td>0.61710</td>\n",
       "      <td>0.19</td>\n",
       "      <td>3.700000e+08</td>\n",
       "    </tr>\n",
       "    <tr>\n",
       "      <th>J1930-1852</th>\n",
       "      <td>gb350</td>\n",
       "      <td>20.0</td>\n",
       "      <td>-16.9</td>\n",
       "      <td>0.185520</td>\n",
       "      <td>1.800000e-17</td>\n",
       "      <td>43.0</td>\n",
       "      <td>45.0600</td>\n",
       "      <td>86.89</td>\n",
       "      <td>0.39890</td>\n",
       "      <td>-0.58</td>\n",
       "      <td>NaN</td>\n",
       "    </tr>\n",
       "    <tr>\n",
       "      <th>J1757-1854</th>\n",
       "      <td>htru_pks</td>\n",
       "      <td>10.0</td>\n",
       "      <td>2.9</td>\n",
       "      <td>0.021500</td>\n",
       "      <td>2.630000e-18</td>\n",
       "      <td>378.0</td>\n",
       "      <td>0.1835</td>\n",
       "      <td>2.24</td>\n",
       "      <td>0.60581</td>\n",
       "      <td>0.37</td>\n",
       "      <td>7.600000e+07</td>\n",
       "    </tr>\n",
       "    <tr>\n",
       "      <th>J1946+2052</th>\n",
       "      <td>palfa</td>\n",
       "      <td>57.7</td>\n",
       "      <td>-2.0</td>\n",
       "      <td>0.016900</td>\n",
       "      <td>9.000000e-19</td>\n",
       "      <td>94.0</td>\n",
       "      <td>0.0784</td>\n",
       "      <td>1.15</td>\n",
       "      <td>0.06380</td>\n",
       "      <td>-0.14</td>\n",
       "      <td>4.600000e+07</td>\n",
       "    </tr>\n",
       "  </tbody>\n",
       "</table>\n",
       "</div>"
      ],
      "text/plain": [
       "                      Survey     Gl    Gb        P0            P1     DM  \\\n",
       "NAME                                                                       \n",
       "J0453+1559             ar372  184.1 -17.1  0.045782  1.860000e-19   30.0   \n",
       "J0737-3039A  pkshl, htru_pks  245.2  -4.5  0.022699  1.760000e-18   49.0   \n",
       "J1411+2551             ar327   33.4  72.1  0.062453  9.560000e-20   12.0   \n",
       "J1518+4904        gb4, gbncc   80.8  54.3  0.040935  2.720000e-20   12.0   \n",
       "B1534+12            ar4, gb4   19.8  48.3  0.037904  2.420000e-18   12.0   \n",
       "J1753-2240   pksmb, htru_pks    6.3   1.7  0.095138  9.700000e-19  159.0   \n",
       "J1756-2251   pksmb, htru_pks    6.5   0.9  0.028462  1.020000e-18  121.0   \n",
       "J1811-1736   pksmb, htru_pks   12.8   0.4  0.104182  9.010000e-19  476.0   \n",
       "J1829+2456               ar4   53.3  15.6  0.041010  5.250000e-20   14.0   \n",
       "J1906+0746             palfa   41.6   0.1  0.144073  2.030000e-14  218.0   \n",
       "J1913+1102             palfa   45.2   0.2  0.027285  1.610000e-19  339.0   \n",
       "B1913+16       ar1,ar4,pksmb   50.0   2.1  0.059030  8.620000e-18  169.0   \n",
       "J1930-1852             gb350   20.0 -16.9  0.185520  1.800000e-17   43.0   \n",
       "J1757-1854          htru_pks   10.0   2.9  0.021500  2.630000e-18  378.0   \n",
       "J1946+2052             palfa   57.7  -2.0  0.016900  9.000000e-19   94.0   \n",
       "\n",
       "                  PB     A1      ECC    ZZ   merger_time  \n",
       "NAME                                                      \n",
       "J0453+1559    4.0725  14.47  0.11250 -0.15  1.430000e+12  \n",
       "J0737-3039A   0.1023   1.42  0.08778 -0.09  8.500000e+07  \n",
       "J1411+2551    2.6159   9.21  0.16990  1.08  4.600000e+11  \n",
       "J1518+4904    8.6340  20.04  0.24950  0.78  2.400000e+12  \n",
       "B1534+12      0.4207   3.73  0.27370  0.79  2.930000e+09  \n",
       "J1753-2240   13.6376  18.12  0.30360  0.09           NaN  \n",
       "J1756-2251    0.3196   2.76  0.18060  0.01  1.690000e+09  \n",
       "J1811-1736   18.7792  34.78  0.82800  0.03  1.000000e+12  \n",
       "J1829+2456    1.1760   7.24  0.13910  0.24  6.000000e+10  \n",
       "J1906+0746    0.1660   1.42  0.08530  0.02  3.000000e+08  \n",
       "J1913+1102    0.2063   1.75  0.08954  0.02  5.000000e+08  \n",
       "B1913+16      0.3230   2.34  0.61710  0.19  3.700000e+08  \n",
       "J1930-1852   45.0600  86.89  0.39890 -0.58           NaN  \n",
       "J1757-1854    0.1835   2.24  0.60581  0.37  7.600000e+07  \n",
       "J1946+2052    0.0784   1.15  0.06380 -0.14  4.600000e+07  "
      ]
     },
     "execution_count": 13,
     "metadata": {},
     "output_type": "execute_result"
    }
   ],
   "source": [
    "data"
   ]
  },
  {
   "cell_type": "markdown",
   "metadata": {},
   "source": [
    "### Calculate the median and error associated with the vertical scale height returned from the simulation and the DM $\\times$ sin$(b)$ for all DNS systems"
   ]
  },
  {
   "cell_type": "code",
   "execution_count": 5,
   "metadata": {},
   "outputs": [
    {
     "name": "stdout",
     "output_type": "stream",
     "text": [
      "Median dmsinb = 4.71693280953 with error = 1.32105297792\n",
      "Median z ht = 0.15 with error = 0.0880360676447\n"
     ]
    }
   ],
   "source": [
    "all_dmsinb_median = (data['DM'] * np.sin(data['Gb'].abs() * np.pi / 180.)).median()\n",
    "all_dmsinb_median_err = (data['DM'] * np.sin(data['Gb'].abs() * np.pi / 180.)).std() / np.sqrt(len(data))\n",
    "\n",
    "all_zht_median = data['ZZ'].abs().median()\n",
    "all_zht_median_err = data['ZZ'].abs().std() / np.sqrt(len(data))\n",
    "\n",
    "print \"Median dmsinb =\", all_dmsinb_median, \"with error =\", all_dmsinb_median_err\n",
    "print \"Median z ht =\", all_zht_median, \"with error =\", all_zht_median_err"
   ]
  },
  {
   "cell_type": "markdown",
   "metadata": {},
   "source": [
    "### Separate the DNS systems into merging and non-merging systems. We do not make use of this partitioned data, but it does provide some interesting insights into the data\n"
   ]
  },
  {
   "cell_type": "code",
   "execution_count": 6,
   "metadata": {},
   "outputs": [
    {
     "name": "stdout",
     "output_type": "stream",
     "text": [
      "15 8 7\n"
     ]
    }
   ],
   "source": [
    "mergers = data.loc[['J0737-3039A', 'B1534+12', 'J1756-2251', 'J1906+0746', 'J1913+1102', 'B1913+16', 'J1757-1854', 'J1946+2052'], :]\n",
    "non_mergers = data.loc[['J0453+1559', 'J1411+2551', 'J1518+4904', 'J1753-2240', 'J1811-1736', 'J1829+2456', 'J1930-1852'], :]\n",
    "\n",
    "print len(data), len(mergers), len(non_mergers)"
   ]
  },
  {
   "cell_type": "code",
   "execution_count": 7,
   "metadata": {},
   "outputs": [
    {
     "name": "stdout",
     "output_type": "stream",
     "text": [
      "Mean dmsinb = 3.56252419035 with error = 2.16892798507\n",
      "Mean z ht = 0.115 with error = 0.0938832386531\n"
     ]
    }
   ],
   "source": [
    "merging_dmsinb_median = (mergers['DM'] * np.sin(mergers['Gb'].abs() * np.pi / 180.)).median()\n",
    "merging_dmsinb_median_err = (mergers['DM'] * np.sin(mergers['Gb'].abs() * np.pi / 180.)).std() / np.sqrt(len(mergers))\n",
    "\n",
    "merging_zht_median = mergers['ZZ'].abs().median()\n",
    "merging_zht_median_err = mergers['ZZ'].abs().std() / np.sqrt(len(mergers))\n",
    "\n",
    "print \"Mean dmsinb =\", merging_dmsinb_median, \"with error =\", merging_dmsinb_median_err\n",
    "print \"Mean z ht =\", merging_zht_median, \"with error =\", merging_zht_median_err"
   ]
  },
  {
   "cell_type": "code",
   "execution_count": 8,
   "metadata": {
    "scrolled": true
   },
   "outputs": [
    {
     "name": "stdout",
     "output_type": "stream",
     "text": [
      "Mean dmsinb = 8.82120975697 with error = 1.42955614692\n",
      "Mean z ht = 0.24 with error = 0.150956136351\n"
     ]
    }
   ],
   "source": [
    "nonmerging_dmsinb_median = (non_mergers['DM'] * np.sin(non_mergers['Gb'].abs() * np.pi / 180.)).median()\n",
    "nonmerging_dmsinb_median_err = (non_mergers['DM'] * np.sin(non_mergers['Gb'].abs() * np.pi / 180.)).std() / np.sqrt(len(non_mergers))\n",
    "\n",
    "nonmerging_zht_median = non_mergers['ZZ'].abs().median()\n",
    "nonmerging_zht_median_err = non_mergers['ZZ'].abs().std() / np.sqrt(len(non_mergers))\n",
    "\n",
    "print \"Mean dmsinb =\", nonmerging_dmsinb_median, \"with error =\", nonmerging_dmsinb_median_err\n",
    "print \"Mean z ht =\", nonmerging_zht_median, \"with error =\", nonmerging_zht_median_err"
   ]
  },
  {
   "cell_type": "markdown",
   "metadata": {
    "collapsed": true
   },
   "source": [
    "# Read in the numpy o/p files from PsrPopPy simulations for all possible z-heights and plot the relevant statistics calculated above for all DNS systems"
   ]
  },
  {
   "cell_type": "markdown",
   "metadata": {},
   "source": [
    "The output files used in the paper are provided in this repo. If they do not appear here, please contact the corresponding author."
   ]
  },
  {
   "cell_type": "code",
   "execution_count": 14,
   "metadata": {
    "collapsed": true
   },
   "outputs": [],
   "source": [
    "zscale = np.arange(0.1, 2.1, 0.1)\n",
    "\n",
    "z_hts = np.load(\"z_ht.npy\")\n",
    "z_hts_error = np.load(\"z_ht_err.npy\")\n",
    "\n",
    "dm_sinb = np.load(\"dm_signb.npy\")\n",
    "dm_sinb_err = np.load(\"dm_signb_err.npy\")"
   ]
  },
  {
   "cell_type": "code",
   "execution_count": 15,
   "metadata": {},
   "outputs": [
    {
     "data": {
      "image/png": "[encoded data removed]",
      "text/plain": [
       "<matplotlib.figure.Figure at 0x7fe5bce92090>"
      ]
     },
     "metadata": {},
     "output_type": "display_data"
    }
   ],
   "source": [
    "#pl.figure(figsize = (20, 10))\n",
    "\n",
    "pl.errorbar(zscale, z_hts, yerr = z_hts_error, marker = 'x', ls = '', color = 'k')\n",
    "\n",
    "pl.axhline(y = all_zht_median, ls = '--', color = 'r', label = r\"Median $z_{\\rm obs}$\")\n",
    "#pl.axhline(y = merging_zht_mean, ls = '--', color = 'r', label = r\"$\\left<\\left| z \\right| \\right>_{\\rm obs}$\")\n",
    "#pl.axhline(y = nonmerging_zht_mean, ls = '--', color = 'r', label = r\"$\\left<\\left| z \\right| \\right>_{\\rm obs}$\")\n",
    "#pl.axhline(y = dropped_zht_mean, ls = '--', color = 'r', label = r\"$\\left<\\left| z \\right| \\right>_{\\rm obs}$\")\n",
    "\n",
    "pl.axhspan(all_zht_median - all_zht_median_err / 2, all_zht_median + all_zht_median_err / 2, alpha = 0.3, color = 'c')\n",
    "#pl.axhspan(merging_zht_mean - merging_zht_mean_err / 2, merging_zht_mean + merging_zht_mean_err / 2, alpha = 0.3, color = 'c')\n",
    "#pl.axhspan(nonmerging_zht_mean - nonmerging_zht_mean_err / 2, nonmerging_zht_mean + nonmerging_zht_mean_err / 2, alpha = 0.3, color = 'c')\n",
    "#pl.axhspan(dropped_zht_mean - dropped_zht_mean_err / 2, dropped_zht_mean + dropped_zht_mean_err / 2, alpha = 0.3, color = 'c')\n",
    "\n",
    "pl.xlabel(\"input z-scale height to simulation (kpc)\", fontsize = 20)\n",
    "pl.ylabel(r\"Median $z_{\\rm det}$\", fontsize = 20)\n",
    "\n",
    "pl.legend(loc = 'upper left', fontsize = 16, frameon = False)\n",
    "pl.tight_layout()\n",
    "pl.show()"
   ]
  },
  {
   "cell_type": "code",
   "execution_count": 16,
   "metadata": {},
   "outputs": [
    {
     "data": {
      "image/png": "[encoded data removed]",
      "text/plain": [
       "<matplotlib.figure.Figure at 0x7fe5bce79810>"
      ]
     },
     "metadata": {},
     "output_type": "display_data"
    }
   ],
   "source": [
    "#pl.figure(figsize = (20, 10))\n",
    "\n",
    "pl.errorbar(zscale, dm_sinb, yerr = dm_sinb_err, marker = 'x', ls = '', color = 'k')\n",
    "\n",
    "pl.axhline(y = all_dmsinb_median, ls = '--', color = 'r', label = r\"Median $\\rm DM \\ sin(\\left| b \\right|)_{\\rm obs}$\")\n",
    "#pl.axhline(y = merging_dmsinb_mean, ls = '--', color = 'r', label = r\"$\\rm \\left< DM \\ sin(\\left| b \\right|) \\right>_{\\rm obs}$\")\n",
    "#pl.axhline(y = nonmerging_dmsinb_mean, ls = '--', color = 'r', label = r\"$\\rm \\left< DM \\ sin(\\left| b \\right|) \\right>_{\\rm obs}$\")\n",
    "#pl.axhline(y = dropped_dmsinb_mean, ls = '--', color = 'r', label = r\"$\\rm \\left< DM \\ sin(\\left| b \\right|) \\right>_{\\rm obs}$\")\n",
    "\n",
    "pl.axhspan(all_dmsinb_median - all_dmsinb_median_err / 2, all_dmsinb_median + all_dmsinb_median_err / 2, alpha = 0.3, color = 'c')\n",
    "#pl.axhspan(merging_dmsinb_mean - merging_dmsinb_mean_err / 2, merging_dmsinb_mean + merging_dmsinb_mean_err / 2, alpha = 0.3, color = 'c')\n",
    "#pl.axhspan(nonmerging_dmsinb_mean - nonmerging_dmsinb_mean_err / 2, nonmerging_dmsinb_mean + nonmerging_dmsinb_mean_err / 2, alpha = 0.3, color = 'c')\n",
    "#pl.axhspan(dropped_dmsinb_mean - dropped_dmsinb_mean_err / 2, dropped_dmsinb_mean + dropped_dmsinb_mean_err / 2, alpha = 0.3, color = 'c')\n",
    "\n",
    "pl.xlabel(\"input z-scale height to simulation (kpc)\", fontsize = 20)\n",
    "pl.ylabel(r\"Median (${\\rm DM} \\, {\\rm sin}(\\left| b \\right|)_{\\rm det}$)\", fontsize = 20)\n",
    "\n",
    "pl.legend(loc = 'best', fontsize = 16, frameon = False)\n",
    "pl.tight_layout()\n",
    "pl.show()"
   ]
  },
  {
   "cell_type": "code",
   "execution_count": null,
   "metadata": {
    "collapsed": true
   },
   "outputs": [],
   "source": []
  }
 ],
 "metadata": {
  "kernelspec": {
   "display_name": "Python 2",
   "language": "python",
   "name": "python2"
  },
  "language_info": {
   "codemirror_mode": {
    "name": "ipython",
    "version": 2
   },
   "file_extension": ".py",
   "mimetype": "text/x-python",
   "name": "python",
   "nbconvert_exporter": "python",
   "pygments_lexer": "ipython2",
   "version": "2.7.13"
  }
 },
 "nbformat": 4,
 "nbformat_minor": 2
}
