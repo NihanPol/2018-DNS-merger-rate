{
 "cells": [
  {
   "cell_type": "markdown",
   "metadata": {},
   "source": [
    "# This script implements the analytical formulae developed in KKL03 and Kim, Perera, McLaughlin, 2012 for calculating the merger rate"
   ]
  },
  {
   "cell_type": "markdown",
   "metadata": {},
   "source": [
    "These were used in the early stages of our analysis to verify our results. The merger rates calculated in the paper use our method of direct convolution of the probability distribution functions."
   ]
  },
  {
   "cell_type": "code",
   "execution_count": null,
   "metadata": {
    "collapsed": true
   },
   "outputs": [],
   "source": [
    "import numpy as np, astropy, scipy, glob, sys\n",
    "import matplotlib.pyplot as pl\n",
    "from scipy.optimize import curve_fit\n",
    "from scipy.misc import factorial\n",
    "import scipy.signal as sig\n",
    "import scipy.stats as st\n",
    "from scipy.interpolate import interp1d\n",
    "import plot_conf_int\n",
    "\n",
    "#%pylab\n",
    "%matplotlib inline"
   ]
  },
  {
   "cell_type": "code",
   "execution_count": null,
   "metadata": {
    "collapsed": true
   },
   "outputs": [],
   "source": [
    "def pdf_two_binaries(rates1, alpha1, t_life_1, f_b_1, rates2, alpha2, t_life_2, f_b_2):\n",
    "    \n",
    "    A = alpha1 * t_life_1 / f_b_1\n",
    "    B = alpha2 * t_life_2 / f_b_2\n",
    "    \n",
    "    r_plus = rates1 + rates2\n",
    "    r_minus = rates1 - rates2\n",
    "    \n",
    "    pdf = (A * B / (B - A)) ** 2 * ( r_plus * (np.exp(-1 * A * r_plus) + np.exp(-1 * B * r_plus))\n",
    "                                   - (2 / (B - A)) * (np.exp(-1 * A * r_plus) - np.exp(-1 * B * r_plus)) )\n",
    "    \n",
    "    return r_plus, pdf\n"
   ]
  },
  {
   "cell_type": "code",
   "execution_count": null,
   "metadata": {
    "collapsed": true
   },
   "outputs": [],
   "source": [
    "def pdf_three_binaries(rates1, alpha1, t_life_1, f_b_1, rates2, alpha2, t_life_2, f_b_2, rates3, alpha3, t_life_3, f_b_3):\n",
    "    \n",
    "    c1 = alpha1 * t_life_1 / f_b_1\n",
    "    c2 = alpha2 * t_life_2 / f_b_2\n",
    "    c3 = alpha3 * t_life_3 / f_b_3\n",
    "    \n",
    "    r_plus = rates1 + rates2 + rates3\n",
    "    \n",
    "    pdf = ( (c1 * c2 * c3) ** 2 / ( (c2 - c1) ** 3 * (c3 - c1) ** 3 * (c3 - c2) ** 3 ) ) * (\n",
    "    (c3 - c2) ** 3 * np.exp(-1 * c1 * r_plus) * ( -2 * (-2 * c1 + c2 + c3) + r_plus * ( -1 * c1 * (c2 + c3) + (c1 ** 2 + c2 * c3) ) ) + \n",
    "    (c3 - c1) ** 3 * np.exp(-1 * c2 * r_plus) * (  2 * (c1 - 2 * c2 + c3) + r_plus * (c2 * (c3 + c1) - (c2 ** 2 + c3 * c1))) +\n",
    "    (c2 - c1) ** 3 * np.exp(-1 * c3 * r_plus) * ( -2 * (c1 + c2 - 2 * c3) + r_plus * (-1 * c3 * (c1 + c2) + (c3 ** 2 + c1 * c2))) )\n",
    "    \n",
    "    return r_plus, pdf\n"
   ]
  },
  {
   "cell_type": "code",
   "execution_count": null,
   "metadata": {
    "collapsed": true
   },
   "outputs": [],
   "source": [
    "names = np.array([r'B1913+16', r'B1534+12', r'J1757$-$1854', 'J1946+2052', '1913+1102', r'J0737$-$3039A', 'J1756$-$2251', 'J1906$-$0746'])\n",
    "\n",
    "N_tots = np.linspace(10, 4e3, 1000)\n",
    "#Correct alphas\n",
    "alphas = np.array([0.00356455, 0.00599778, 0.00466759, 0.00442606, 0.00487211, 0.00242033, 0.00604415, 0.01117695])\n",
    "#decrease mean luminosity alphas\n",
    "#alphas = np.array([0.00290474, 0.00479277, 0.00302507, 0.002158, 0.00319983, 0.00124934, 0.00424225, 0.00947576])\n",
    "\n",
    "#Correct n_psr\n",
    "N_psr = np.array([281, 167, 214, 226, 205, 413, 165, 89])\n",
    "#decrease mean luminosity n_psr\n",
    "#N_psr = np.array([344, 209, 331, 463, 313, 800, 236, 106])\n",
    "\n",
    "#t_life using the GW coalescence time for J1906+0746 as its death time:\n",
    "#t_life = np.array([0.37e3, 2.93e3, 0.162e3, 0.293e3, 3.125e3, 0.24e3, 1.69e3, 0.3e3])\n",
    "#t_life using the time for 1906 to cross into the death valley, with eq. 6 and 9 and Dunc's (FIDUCIAL) eq. resp.\n",
    "#t_life = np.array([0.37e3, 2.93e3, 0.162e3, 0.293e3, 3.125e3, 0.24e3, 1.69e3, 0.003e3])\n",
    "#t_life = np.array([0.37e3, 2.93e3, 0.162e3, 0.293e3, 3.125e3, 0.24e3, 1.69e3, 0.03e3])\n",
    "# FIDUCIAL\n",
    "t_life = np.array([0.37e3, 2.93e3, 0.162e3, 0.293e3, 3.125e3, 0.24e3, 1.69e3, 0.06e3]) \n",
    "\n",
    "#Correct f_b\n",
    "f_b = np.array([5.72, 6.04, 4.59, 4.59, 4.59, 2.00, 4.59, 4.59])\n",
    "#f_b = np.array([5.72, 6.04, 24, 24, 24, 2.00, 24, 24])\n",
    "#f_b = np.array([5.72, 6.04, 10, 10, 10, 2.00, 10, 10])\n",
    "\n",
    "pop_pdfs = get_pop_pdfs(N_tots, alphas)\n",
    "\n",
    "rates, rate_pdfs = get_rate_pdfs(N_tots, N_psr, alphas, t_life, f_b)"
   ]
  },
  {
   "cell_type": "code",
   "execution_count": null,
   "metadata": {
    "collapsed": true
   },
   "outputs": [],
   "source": [
    "#1913 and 1534 in this block:\n",
    "\n",
    "rates_1913_1534, pdf_1913_1534 = pdf_two_binaries(rates[2], alphas[2], t_life[2], f_b[2], rates[1], alphas[1], t_life[1], f_b[1])\n",
    "\n",
    "print \"Predicted galactic merger rate for 1913 + 1534 is {} per Myr\".format(rates_1913_1534[np.argmax(pdf_1913_1534)])\n",
    "\n",
    "#0737 and 1946 in this block:\n",
    "\n",
    "rates_0737_1946, pdf_0737_1946 = pdf_two_binaries(rates[0], alphas[0], t_life[0], f_b[0], rates[4], alphas[4], t_life[4], f_b[4])\n",
    "\n",
    "print \"Predicted galactic merger rate for 0737 + 1946 is {} per Myr\".format(rates_0737_1946[np.argmax(pdf_0737_1946)])"
   ]
  }
 ],
 "metadata": {
  "kernelspec": {
   "display_name": "Python 2",
   "language": "python",
   "name": "python2"
  },
  "language_info": {
   "codemirror_mode": {
    "name": "ipython",
    "version": 2
   },
   "file_extension": ".py",
   "mimetype": "text/x-python",
   "name": "python",
   "nbconvert_exporter": "python",
   "pygments_lexer": "ipython2",
   "version": "2.7.13"
  }
 },
 "nbformat": 4,
 "nbformat_minor": 2
}
