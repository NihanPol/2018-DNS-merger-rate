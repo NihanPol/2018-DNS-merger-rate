{
 "cells": [
  {
   "cell_type": "markdown",
   "metadata": {},
   "source": [
    "# This script is used to calculate the parameters $\\alpha$ and N$_{\\rm tot}$ described in Sec. 3 of the paper."
   ]
  },
  {
   "cell_type": "code",
   "execution_count": null,
   "metadata": {
    "collapsed": true
   },
   "outputs": [],
   "source": [
    "import numpy as np, astropy, scipy, glob, sys\n",
    "import matplotlib.pyplot as pl\n",
    "from scipy.optimize import curve_fit\n",
    "from scipy.misc import factorial\n",
    "import scipy.signal as sig\n",
    "import scipy.stats as st\n",
    "from scipy.interpolate import interp1d\n",
    "#import seaborn\n",
    "\n",
    "import plot_conf_int\n",
    "import dosurvey, populate\n",
    "\n",
    "#%pylab\n",
    "%matplotlib inline"
   ]
  },
  {
   "cell_type": "markdown",
   "metadata": {},
   "source": [
    "- This script is used to produce Fig. 2 in KKL03 and fit a Poisson function to the distribution. This fitting gives us the parameter $\\lambda$ from the same figure.\n",
    "- $\\lambda$ is calculated for multiple population sizes, same as in KKL03. "
   ]
  },
  {
   "cell_type": "code",
   "execution_count": null,
   "metadata": {
    "collapsed": true
   },
   "outputs": [],
   "source": [
    "def Poisson(x, lam):\n",
    "    \n",
    "    return lam ** x * np.exp(-1 * lam) / factorial(x)\n",
    "\n",
    "paths = sorted(glob.glob(\"./pop_result_z330_1906_0746/*npy\"))\n",
    "\n",
    "Ntot = np.arange(10, (len(paths) * 100 + 10), 100)\n",
    "xaxis = np.arange(0, 200, 1)\n",
    "\n",
    "detect = np.load(paths[0])\n",
    "prob = np.full((len(detect), 200), 0.0)\n",
    "mean_prob = np.full((len(paths), 200), 0.0)\n",
    "std_prob = np.full((len(paths), 200), 0.0)\n",
    "mean_prob_norm = np.full((len(paths), 200), 0.0)\n",
    "\n",
    "lambdas = np.full((len(paths)), 0.0)\n",
    "lambdas_err = np.full((len(paths)), 0.0)\n",
    "\n",
    "for jj, filename in enumerate(paths):\n",
    "    \n",
    "    prob = np.full((len(detect), 200), 0.0)\n",
    "    \n",
    "    #print \"On filename:{}\".format(filename)\n",
    "    detect = np.load(filename)\n",
    "    detect = np.asarray(detect, dtype = np.int)\n",
    "    \n",
    "    for ii, vals in enumerate(detect):\n",
    "        \n",
    "        unique, counts = np.unique(vals, return_counts = True)\n",
    "        \n",
    "        probability = counts / np.sum(counts, dtype = np.float64)\n",
    "        \n",
    "        prob[ii][unique] = probability\n",
    "        \n",
    "    mean_prob[jj] = np.mean(prob, axis = 0)\n",
    "    std_prob[jj] = np.std(prob, axis = 0)\n",
    "    \n",
    "    mean_prob_norm[jj] = mean_prob[jj] / np.sum(mean_prob[jj])\n",
    "    \n",
    "    popt, pconv = curve_fit(Poisson, xaxis, mean_prob_norm[jj], maxfev = 1000)\n",
    "    '''\n",
    "    if jj == 8:\n",
    "        \n",
    "        #pl.plot(xaxis, mean_prob[jj], color = 'r')\n",
    "        pl.plot(xaxis, mean_prob_norm[jj], marker = 'o', color = 'k', label = 'Simulation')\n",
    "        pl.plot(xaxis, Poisson(xaxis, *popt), marker = 's', color = 'c', label = 'Poisson')\n",
    "        #pl.title(r\"Results for $N_{\\rm tot}$ = \" + str(Ntot[jj]))\n",
    "        pl.xlabel(r\"N$_{\\rm obs}$\", fontsize = 22)\n",
    "        pl.ylabel(r\"P(N$_{\\rm obs}$)\", fontsize = 22)\n",
    "        pl.legend(loc = 'best')\n",
    "        pl.show()\n",
    "      '''\n",
    "    lambdas[jj] = popt[0]\n",
    "    lambdas_err[jj] = 1.96 * np.sqrt(popt[0] / len(Ntot))\n",
    "\n",
    "#pl.errorbar(Ntot, lambdas, yerr = lambdas_err, marker = 'x', ls = '')\n",
    "\n",
    "#pl.show()\n",
    "#print lambdas\n",
    "#print lambdas_err"
   ]
  },
  {
   "cell_type": "markdown",
   "metadata": {},
   "source": [
    "- The following script reads in the $\\lambda$s for multiple populations, and according to the arguments in KKL03, fits a straight line to obtain $\\alpha$."
   ]
  },
  {
   "cell_type": "markdown",
   "metadata": {},
   "source": [
    "- Using the above $\\alpha$, we calculate N$_{\\rm tot}$ (refered to as N$_{\\rm pop}$ in the snippet below: $$ N_{\\rm pop} = \\frac{1}{\\alpha} $$"
   ]
  },
  {
   "cell_type": "code",
   "execution_count": null,
   "metadata": {
    "collapsed": true
   },
   "outputs": [],
   "source": [
    "def line(x, a):\n",
    "    \n",
    "    return a * x\n",
    "\n",
    "popt, pconv = curve_fit(line, Ntot, lambdas, sigma = lambdas_err)\n",
    "\n",
    "print r\"$\\alpha$ = {}\".format(popt)\n",
    "\n",
    "pl.errorbar(Ntot, lambdas, yerr = lambdas_err, marker = 'x', ls = '')\n",
    "pl.plot(Ntot, line(Ntot, *popt), color = 'g', label = r\"$\\alpha = $\" + str(popt[0]))\n",
    "\n",
    "#pl.xlabel(r\"N$_{\\rm tot}$\", fontsize = 22)\n",
    "#pl.ylabel(r\"$\\lambda$\", fontsize = 22)\n",
    "\n",
    "pl.xlabel(r\"Total number of DNS systems in Galaxy\", fontsize = 18)\n",
    "pl.ylabel(r\"Number of DNS systems detected\", fontsize = 18)\n",
    "\n",
    "pl.tight_layout()\n",
    "pl.legend(loc = 'best')\n",
    "pl.show()\n",
    "\n",
    "N_pop = 1 / popt[0]\n",
    "\n",
    "print N_pop\n"
   ]
  }
 ],
 "metadata": {
  "kernelspec": {
   "display_name": "Python 2",
   "language": "python",
   "name": "python2"
  },
  "language_info": {
   "codemirror_mode": {
    "name": "ipython",
    "version": 2
   },
   "file_extension": ".py",
   "mimetype": "text/x-python",
   "name": "python",
   "nbconvert_exporter": "python",
   "pygments_lexer": "ipython2",
   "version": "2.7.13"
  }
 },
 "nbformat": 4,
 "nbformat_minor": 2
}
